{
 "cells": [
  {
   "cell_type": "code",
   "execution_count": 20,
   "metadata": {},
   "outputs": [
    {
     "name": "stdout",
     "output_type": "stream",
     "text": [
      "{'Омлет': [{'ingredient_name': 'Яйцо ', 'quantity': 2, 'measure': ' шт'}, {'ingredient_name': 'Молоко ', 'quantity': 100, 'measure': ' мл'}, {'ingredient_name': 'Помидор ', 'quantity': 2, 'measure': ' шт'}], 'Утка по-пекински': [{'ingredient_name': 'Утка ', 'quantity': 1, 'measure': ' шт'}, {'ingredient_name': 'Вода ', 'quantity': 2, 'measure': ' л'}, {'ingredient_name': 'Мед ', 'quantity': 3, 'measure': ' ст.л'}, {'ingredient_name': 'Соевый соус ', 'quantity': 60, 'measure': ' мл'}], 'Запеченный картофель': [{'ingredient_name': 'Картофель ', 'quantity': 1, 'measure': ' кг'}, {'ingredient_name': 'Чеснок ', 'quantity': 3, 'measure': ' зубч'}, {'ingredient_name': 'Сыр гауда ', 'quantity': 100, 'measure': ' г'}], 'Фахитос': [{'ingredient_name': 'Говядина ', 'quantity': 500, 'measure': ' г'}, {'ingredient_name': 'Перец сладкий ', 'quantity': 1, 'measure': ' шт'}, {'ingredient_name': 'Лаваш ', 'quantity': 2, 'measure': ' шт'}, {'ingredient_name': 'Винный уксус ', 'quantity': 1, 'measure': ' ст.л'}, {'ingredient_name': 'Помидор ', 'quantity': 2, 'measure': ' шт'}]}\n"
     ]
    }
   ],
   "source": [
    "def read_cook_book(file):\n",
    "    data = {}\n",
    "    key = ['ingredient_name', 'quantity', 'measure']\n",
    "    with open(file, 'r', encoding='utf-8') as f:\n",
    "        while True:\n",
    "            ingredients = []\n",
    "            name = f.readline().rstrip()\n",
    "            if not name:\n",
    "                break\n",
    "            ingredient_count = f.readline().rstrip()\n",
    "            for i in range(int(ingredient_count)):\n",
    "                ing = f.readline().rstrip()\n",
    "                ing_list = ing.strip().split(\"|\")\n",
    "                ingredient = dict(zip(key, ing_list))\n",
    "                ingredient['quantity'] = int(ingredient['quantity'])\n",
    "                ingredients.append(ingredient)\n",
    "            data[name] = ingredients\n",
    "            f.readline().rstrip()\n",
    "    return data\n",
    "data = read_cook_book('Cook_book.txt')\n",
    "print(data)\n",
    "\n",
    "def get_shop_list_by_dishes(dishes, person_count):\n",
    "    cook_dict = {}\n",
    "    for dish in dishes:\n",
    "        if dish in data:\n",
    "            for ingress_diets in data[dish]:\n",
    "                dict_ing = {}\n",
    "                if ingress_diets['ingredient_name'] in cook_dict:\n",
    "                    quantity = cook_dict[ingress_diets['ingredient_name']].get('quantity')\n",
    "                    ingress_diets['quantity'] * person_count\n",
    "                    cook_dict[ingress_diets['ingredient_name']].update(quantity=quantity)\n",
    "                else:\n",
    "                    dict_ing['measure'] = ingress_diets['measure']\n",
    "                    dict_ing['quantity'] = ingress_diets['quantity'] * person_count\n",
    "                    cook_dict[ingress_diets['ingredient_name']] = dict_ing\n",
    "    return cook_dict\n",
    "#print(get_shop_list_by_dishes(['Омлет', 'Фахитос', 'Запеченный картофель'], 4))\n"
   ]
  },
  {
   "cell_type": "code",
   "execution_count": 24,
   "metadata": {},
   "outputs": [],
   "source": [
    "import os\n",
    "\n",
    "file_dict = {}\n",
    "fin_file = 'finish.txt'\n",
    "for file in os.listdir():\n",
    "    if \".txt\" in file and fin_file not in file:\n",
    "        file_dict[file] = len(open(file, 'r', encoding='utf-8').readlines())\n",
    "\n",
    "sort_file = [(string_count, file_dict[string_count]) for string_count in\n",
    "             sorted(file_dict, key=file_dict.get, reverse=False)]\n",
    "\n",
    "with open(fin_file, 'w') as fw:\n",
    "    for file, string_count in sort_file:\n",
    "        with open(file, 'r', encoding='utf-8') as fr:\n",
    "            fw.write('\\n' + file + '\\n')\n",
    "            fw.write(str(string_count) + '\\n')\n",
    "            for strings in fr.readlines():\n",
    "                fw.write(strings)     "
   ]
  }
 ],
 "metadata": {
  "kernelspec": {
   "display_name": "Python 3.10.2 64-bit",
   "language": "python",
   "name": "python3"
  },
  "language_info": {
   "codemirror_mode": {
    "name": "ipython",
    "version": 3
   },
   "file_extension": ".py",
   "mimetype": "text/x-python",
   "name": "python",
   "nbconvert_exporter": "python",
   "pygments_lexer": "ipython3",
   "version": "3.10.2"
  },
  "orig_nbformat": 4,
  "vscode": {
   "interpreter": {
    "hash": "bbd2a033aba475fad999752b9fad4acbae69c7921714380c1b7c126f944364b6"
   }
  }
 },
 "nbformat": 4,
 "nbformat_minor": 2
}
